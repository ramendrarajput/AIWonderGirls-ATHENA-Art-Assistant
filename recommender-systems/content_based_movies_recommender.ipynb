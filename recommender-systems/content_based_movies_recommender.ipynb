{
  "nbformat": 4,
  "nbformat_minor": 0,
  "metadata": {
    "kernelspec": {
      "display_name": "Python 3",
      "language": "python",
      "name": "python3"
    },
    "language_info": {
      "codemirror_mode": {
        "name": "ipython",
        "version": 3
      },
      "file_extension": ".py",
      "mimetype": "text/x-python",
      "name": "python",
      "nbconvert_exporter": "python",
      "pygments_lexer": "ipython3",
      "version": "3.6.0"
    },
    "colab": {
      "name": "content_based_movies_recommender.ipynb",
      "provenance": [],
      "collapsed_sections": []
    }
  },
  "cells": [
    {
      "cell_type": "markdown",
      "metadata": {
        "id": "oKzgb5lgC2HZ"
      },
      "source": [
        "# Movies Recommender System"
      ]
    },
    {
      "cell_type": "code",
      "metadata": {
        "colab": {
          "base_uri": "https://localhost:8080/"
        },
        "id": "MWtAoOhGE1kZ",
        "outputId": "1169b583-07de-476d-80b4-53218cf83dc0"
      },
      "source": [
        "pip install surprise"
      ],
      "execution_count": 2,
      "outputs": [
        {
          "output_type": "stream",
          "name": "stdout",
          "text": [
            "Collecting surprise\n",
            "  Downloading surprise-0.1-py2.py3-none-any.whl (1.8 kB)\n",
            "Collecting scikit-surprise\n",
            "  Downloading scikit-surprise-1.1.1.tar.gz (11.8 MB)\n",
            "\u001b[K     |████████████████████████████████| 11.8 MB 14.4 MB/s \n",
            "\u001b[?25hRequirement already satisfied: joblib>=0.11 in /usr/local/lib/python3.7/dist-packages (from scikit-surprise->surprise) (1.0.1)\n",
            "Requirement already satisfied: numpy>=1.11.2 in /usr/local/lib/python3.7/dist-packages (from scikit-surprise->surprise) (1.19.5)\n",
            "Requirement already satisfied: scipy>=1.0.0 in /usr/local/lib/python3.7/dist-packages (from scikit-surprise->surprise) (1.4.1)\n",
            "Requirement already satisfied: six>=1.10.0 in /usr/local/lib/python3.7/dist-packages (from scikit-surprise->surprise) (1.15.0)\n",
            "Building wheels for collected packages: scikit-surprise\n",
            "  Building wheel for scikit-surprise (setup.py) ... \u001b[?25l\u001b[?25hdone\n",
            "  Created wheel for scikit-surprise: filename=scikit_surprise-1.1.1-cp37-cp37m-linux_x86_64.whl size=1619419 sha256=da62977ac040ca348c78fe7b3603ad09c2d6a3fd2682c39d10730852ebdf887d\n",
            "  Stored in directory: /root/.cache/pip/wheels/76/44/74/b498c42be47b2406bd27994e16c5188e337c657025ab400c1c\n",
            "Successfully built scikit-surprise\n",
            "Installing collected packages: scikit-surprise, surprise\n",
            "Successfully installed scikit-surprise-1.1.1 surprise-0.1\n"
          ]
        }
      ]
    },
    {
      "cell_type": "code",
      "metadata": {
        "collapsed": true,
        "id": "3jo6jlt-C2Hf"
      },
      "source": [
        "%matplotlib inline\n",
        "import pandas as pd\n",
        "import numpy as np\n",
        "import matplotlib.pyplot as plt\n",
        "import seaborn as sns\n",
        "from scipy import stats\n",
        "from ast import literal_eval\n",
        "from sklearn.feature_extraction.text import TfidfVectorizer, CountVectorizer\n",
        "from sklearn.metrics.pairwise import linear_kernel, cosine_similarity\n",
        "from nltk.stem.snowball import SnowballStemmer\n",
        "from nltk.stem.wordnet import WordNetLemmatizer\n",
        "from nltk.corpus import wordnet\n",
        "from surprise import Reader, Dataset, SVD \n",
        "from surprise.model_selection import cross_validate\n",
        "\n",
        "import warnings; warnings.simplefilter('ignore')"
      ],
      "execution_count": 4,
      "outputs": []
    },
    {
      "cell_type": "markdown",
      "metadata": {
        "id": "uEgkE1buC2Hg"
      },
      "source": [
        "## Simple Recommender\n",
        "\n",
        "The Simple Recommender offers generalized recommnendations to every user based on movie popularity and (sometimes) genre. The basic idea behind this recommender is that movies that are more popular and more critically acclaimed will have a higher probability of being liked by the average audience. This model does not give personalized recommendations based on the user. \n",
        "\n",
        "The implementation of this model is extremely trivial. All we have to do is sort our movies based on ratings and popularity and display the top movies of our list. As an added step, we can pass in a genre argument to get the top movies of a particular genre. "
      ]
    },
    {
      "cell_type": "code",
      "metadata": {
        "colab": {
          "base_uri": "https://localhost:8080/"
        },
        "id": "1Ntzi7jZC2Hg",
        "outputId": "cad3b6c7-923e-4df1-befc-55053b415044"
      },
      "source": [
        "df= pd.read_csv('movies_metadata_womandirectorfilter.csv')\n",
        "df.head()\n",
        "print(df.shape)"
      ],
      "execution_count": 63,
      "outputs": [
        {
          "output_type": "stream",
          "name": "stdout",
          "text": [
            "(45466, 26)\n"
          ]
        }
      ]
    },
    {
      "cell_type": "code",
      "metadata": {
        "colab": {
          "base_uri": "https://localhost:8080/"
        },
        "id": "3b9bDXsuFl4L",
        "outputId": "f0cc94e3-2aca-4081-8cb5-fb22c443ed8c"
      },
      "source": [
        "f = df[df['Female Director']== 1]\n",
        "md = f.copy()\n",
        "print(md.shape)"
      ],
      "execution_count": 65,
      "outputs": [
        {
          "output_type": "stream",
          "name": "stdout",
          "text": [
            "(1886, 26)\n"
          ]
        }
      ]
    },
    {
      "cell_type": "code",
      "metadata": {
        "colab": {
          "base_uri": "https://localhost:8080/"
        },
        "id": "5fwRC8LdHbPu",
        "outputId": "333bdd29-4d93-4cf9-f81b-52dec1513c94"
      },
      "source": [
        "md.info()"
      ],
      "execution_count": 66,
      "outputs": [
        {
          "output_type": "stream",
          "name": "stdout",
          "text": [
            "<class 'pandas.core.frame.DataFrame'>\n",
            "Int64Index: 1886 entries, 17 to 45408\n",
            "Data columns (total 26 columns):\n",
            " #   Column                 Non-Null Count  Dtype  \n",
            "---  ------                 --------------  -----  \n",
            " 0   adult                  1886 non-null   object \n",
            " 1   belongs_to_collection  65 non-null     object \n",
            " 2   budget                 1886 non-null   object \n",
            " 3   genres                 1886 non-null   object \n",
            " 4   homepage               406 non-null    object \n",
            " 5   id                     1886 non-null   object \n",
            " 6   imdb_id                1885 non-null   object \n",
            " 7   original_language      1884 non-null   object \n",
            " 8   original_title         1886 non-null   object \n",
            " 9   overview               1848 non-null   object \n",
            " 10  popularity             1886 non-null   object \n",
            " 11  poster_path            1866 non-null   object \n",
            " 12  production_companies   1886 non-null   object \n",
            " 13  production_countries   1886 non-null   object \n",
            " 14  release_date           1883 non-null   object \n",
            " 15  revenue                1886 non-null   float64\n",
            " 16  runtime                1880 non-null   float64\n",
            " 17  spoken_languages       1886 non-null   object \n",
            " 18  status                 1886 non-null   object \n",
            " 19  tagline                524 non-null    object \n",
            " 20  title                  1886 non-null   object \n",
            " 21  video                  1886 non-null   object \n",
            " 22  vote_average           1886 non-null   float64\n",
            " 23  vote_count             1886 non-null   float64\n",
            " 24  Female Director        1886 non-null   int64  \n",
            " 25  woman director id      51 non-null     float64\n",
            "dtypes: float64(5), int64(1), object(20)\n",
            "memory usage: 397.8+ KB\n"
          ]
        }
      ]
    },
    {
      "cell_type": "code",
      "metadata": {
        "collapsed": true,
        "id": "N4y2H7RiC2Hh"
      },
      "source": [
        "md['genres'] = md['genres'].fillna('[]').apply(literal_eval).apply(lambda x: [i['name'] for i in x] if isinstance(x, list) else [])"
      ],
      "execution_count": 67,
      "outputs": []
    },
    {
      "cell_type": "markdown",
      "metadata": {
        "id": "HE1-IvXwC2Hi"
      },
      "source": [
        "I use the TMDB Ratings to come up with our **Top Movies Chart.** I will use IMDB's *weighted rating* formula to construct my chart. Mathematically, it is represented as follows:\n",
        "\n",
        "Weighted Rating (WR) = $(\\frac{v}{v + m} . R) + (\\frac{m}{v + m} . C)$\n",
        "\n",
        "where,\n",
        "* *v* is the number of votes for the movie\n",
        "* *m* is the minimum votes required to be listed in the chart\n",
        "* *R* is the average rating of the movie\n",
        "* *C* is the mean vote across the whole report\n",
        "\n",
        "The next step is to determine an appropriate value for *m*, the minimum votes required to be listed in the chart. We will use **95th percentile** as our cutoff. In other words, for a movie to feature in the charts, it must have more votes than at least 95% of the movies in the list.\n",
        "\n",
        "I will build our overall Top 250 Chart and will define a function to build charts for a particular genre. Let's begin!"
      ]
    },
    {
      "cell_type": "code",
      "metadata": {
        "colab": {
          "base_uri": "https://localhost:8080/"
        },
        "id": "PCHCE5MLC2Hi",
        "outputId": "1f4c72eb-f5e4-471e-884a-8cdc4033987f"
      },
      "source": [
        "vote_counts = md[md['vote_count'].notnull()]['vote_count'].astype('int')\n",
        "vote_averages = md[md['vote_average'].notnull()]['vote_average'].astype('int')\n",
        "C = vote_averages.mean()\n",
        "C"
      ],
      "execution_count": 68,
      "outputs": [
        {
          "output_type": "execute_result",
          "data": {
            "text/plain": [
              "5.179745493107105"
            ]
          },
          "metadata": {},
          "execution_count": 68
        }
      ]
    },
    {
      "cell_type": "code",
      "metadata": {
        "colab": {
          "base_uri": "https://localhost:8080/"
        },
        "id": "yRmAOQHQC2Hj",
        "outputId": "74003136-c81d-42d9-9d79-b9548a1f653d"
      },
      "source": [
        "m = vote_counts.quantile(0.95)\n",
        "m"
      ],
      "execution_count": 69,
      "outputs": [
        {
          "output_type": "execute_result",
          "data": {
            "text/plain": [
              "109.0"
            ]
          },
          "metadata": {},
          "execution_count": 69
        }
      ]
    },
    {
      "cell_type": "code",
      "metadata": {
        "collapsed": true,
        "id": "ABVYR8PVC2Hj"
      },
      "source": [
        "md['year'] = pd.to_datetime(md['release_date'], errors='coerce').apply(lambda x: str(x).split('-')[0] if x != np.nan else np.nan)"
      ],
      "execution_count": 70,
      "outputs": []
    },
    {
      "cell_type": "code",
      "metadata": {
        "colab": {
          "base_uri": "https://localhost:8080/"
        },
        "id": "o-QVdP-LC2Hj",
        "outputId": "b7b9c481-ecd8-4097-a6a9-2a811d2f1d88"
      },
      "source": [
        "qualified = md[(md['vote_count'] >= m) & (md['vote_count'].notnull()) & (md['vote_average'].notnull())][['title', 'year', 'vote_count', 'vote_average', 'popularity', 'genres']]\n",
        "qualified['vote_count'] = qualified['vote_count'].astype('int')\n",
        "qualified['vote_average'] = qualified['vote_average'].astype('int')\n",
        "qualified.shape"
      ],
      "execution_count": 71,
      "outputs": [
        {
          "output_type": "execute_result",
          "data": {
            "text/plain": [
              "(96, 6)"
            ]
          },
          "metadata": {},
          "execution_count": 71
        }
      ]
    },
    {
      "cell_type": "code",
      "metadata": {
        "collapsed": true,
        "id": "5OZXxUUFC2Hk"
      },
      "source": [
        "def weighted_rating(x):\n",
        "    v = x['vote_count']\n",
        "    R = x['vote_average']\n",
        "    return (v/(v+m) * R) + (m/(m+v) * C)"
      ],
      "execution_count": 72,
      "outputs": []
    },
    {
      "cell_type": "code",
      "metadata": {
        "collapsed": true,
        "id": "XcxQ9J-6C2Hl"
      },
      "source": [
        "qualified['wr'] = qualified.apply(weighted_rating, axis=1)"
      ],
      "execution_count": 73,
      "outputs": []
    },
    {
      "cell_type": "code",
      "metadata": {
        "collapsed": true,
        "id": "eojch928C2Hl"
      },
      "source": [
        "qualified = qualified.sort_values('wr', ascending=False).head(250)"
      ],
      "execution_count": 74,
      "outputs": []
    },
    {
      "cell_type": "markdown",
      "metadata": {
        "id": "GI4NahXsC2Hl"
      },
      "source": [
        "### Top Movies"
      ]
    },
    {
      "cell_type": "code",
      "metadata": {
        "colab": {
          "base_uri": "https://localhost:8080/",
          "height": 511
        },
        "id": "YRJDjFu8C2Hl",
        "outputId": "910f2c5e-a731-4fbe-9edc-087bc23a3c6b"
      },
      "source": [
        "qualified.head(15)"
      ],
      "execution_count": 75,
      "outputs": [
        {
          "output_type": "execute_result",
          "data": {
            "text/html": [
              "<div>\n",
              "<style scoped>\n",
              "    .dataframe tbody tr th:only-of-type {\n",
              "        vertical-align: middle;\n",
              "    }\n",
              "\n",
              "    .dataframe tbody tr th {\n",
              "        vertical-align: top;\n",
              "    }\n",
              "\n",
              "    .dataframe thead th {\n",
              "        text-align: right;\n",
              "    }\n",
              "</style>\n",
              "<table border=\"1\" class=\"dataframe\">\n",
              "  <thead>\n",
              "    <tr style=\"text-align: right;\">\n",
              "      <th></th>\n",
              "      <th>title</th>\n",
              "      <th>year</th>\n",
              "      <th>vote_count</th>\n",
              "      <th>vote_average</th>\n",
              "      <th>popularity</th>\n",
              "      <th>genres</th>\n",
              "      <th>wr</th>\n",
              "    </tr>\n",
              "  </thead>\n",
              "  <tbody>\n",
              "    <tr>\n",
              "      <th>5878</th>\n",
              "      <td>City of God</td>\n",
              "      <td>2002</td>\n",
              "      <td>1852</td>\n",
              "      <td>8</td>\n",
              "      <td>14.9593</td>\n",
              "      <td>[Drama, Crime]</td>\n",
              "      <td>7.843239</td>\n",
              "    </tr>\n",
              "    <tr>\n",
              "      <th>31783</th>\n",
              "      <td>Mustang</td>\n",
              "      <td>2015</td>\n",
              "      <td>378</td>\n",
              "      <td>8</td>\n",
              "      <td>6.49255</td>\n",
              "      <td>[Drama]</td>\n",
              "      <td>7.368773</td>\n",
              "    </tr>\n",
              "    <tr>\n",
              "      <th>33356</th>\n",
              "      <td>Wonder Woman</td>\n",
              "      <td>2017</td>\n",
              "      <td>5025</td>\n",
              "      <td>7</td>\n",
              "      <td>294.337037</td>\n",
              "      <td>[Action, Adventure, Fantasy]</td>\n",
              "      <td>6.961354</td>\n",
              "    </tr>\n",
              "    <tr>\n",
              "      <th>4178</th>\n",
              "      <td>Shrek</td>\n",
              "      <td>2001</td>\n",
              "      <td>4183</td>\n",
              "      <td>7</td>\n",
              "      <td>17.9877</td>\n",
              "      <td>[Adventure, Animation, Comedy, Family, Fantasy]</td>\n",
              "      <td>6.953773</td>\n",
              "    </tr>\n",
              "    <tr>\n",
              "      <th>36223</th>\n",
              "      <td>Me Before You</td>\n",
              "      <td>2016</td>\n",
              "      <td>2674</td>\n",
              "      <td>7</td>\n",
              "      <td>34.34759</td>\n",
              "      <td>[Drama, Romance]</td>\n",
              "      <td>6.928707</td>\n",
              "    </tr>\n",
              "    <tr>\n",
              "      <th>6562</th>\n",
              "      <td>Lost in Translation</td>\n",
              "      <td>2003</td>\n",
              "      <td>1943</td>\n",
              "      <td>7</td>\n",
              "      <td>11.6094</td>\n",
              "      <td>[Drama]</td>\n",
              "      <td>6.903310</td>\n",
              "    </tr>\n",
              "    <tr>\n",
              "      <th>32117</th>\n",
              "      <td>The Intern</td>\n",
              "      <td>2015</td>\n",
              "      <td>1926</td>\n",
              "      <td>7</td>\n",
              "      <td>15.6517</td>\n",
              "      <td>[Comedy]</td>\n",
              "      <td>6.902502</td>\n",
              "    </tr>\n",
              "    <tr>\n",
              "      <th>17454</th>\n",
              "      <td>One Day</td>\n",
              "      <td>2011</td>\n",
              "      <td>1006</td>\n",
              "      <td>7</td>\n",
              "      <td>11.239</td>\n",
              "      <td>[Drama, Romance]</td>\n",
              "      <td>6.822056</td>\n",
              "    </tr>\n",
              "    <tr>\n",
              "      <th>39773</th>\n",
              "      <td>The Edge of Seventeen</td>\n",
              "      <td>2016</td>\n",
              "      <td>952</td>\n",
              "      <td>7</td>\n",
              "      <td>9.51953</td>\n",
              "      <td>[Comedy, Drama]</td>\n",
              "      <td>6.812999</td>\n",
              "    </tr>\n",
              "    <tr>\n",
              "      <th>10386</th>\n",
              "      <td>Green Street Hooligans</td>\n",
              "      <td>2005</td>\n",
              "      <td>652</td>\n",
              "      <td>7</td>\n",
              "      <td>7.77262</td>\n",
              "      <td>[Crime, Drama]</td>\n",
              "      <td>6.739280</td>\n",
              "    </tr>\n",
              "    <tr>\n",
              "      <th>40885</th>\n",
              "      <td>13th</td>\n",
              "      <td>2016</td>\n",
              "      <td>133</td>\n",
              "      <td>8</td>\n",
              "      <td>8.255986</td>\n",
              "      <td>[Documentary]</td>\n",
              "      <td>6.729720</td>\n",
              "    </tr>\n",
              "    <tr>\n",
              "      <th>2988</th>\n",
              "      <td>Awakenings</td>\n",
              "      <td>1990</td>\n",
              "      <td>568</td>\n",
              "      <td>7</td>\n",
              "      <td>13.2016</td>\n",
              "      <td>[Drama]</td>\n",
              "      <td>6.706931</td>\n",
              "    </tr>\n",
              "    <tr>\n",
              "      <th>4884</th>\n",
              "      <td>I Am Sam</td>\n",
              "      <td>2001</td>\n",
              "      <td>542</td>\n",
              "      <td>7</td>\n",
              "      <td>12.935</td>\n",
              "      <td>[Drama]</td>\n",
              "      <td>6.695226</td>\n",
              "    </tr>\n",
              "    <tr>\n",
              "      <th>25086</th>\n",
              "      <td>Citizenfour</td>\n",
              "      <td>2014</td>\n",
              "      <td>516</td>\n",
              "      <td>7</td>\n",
              "      <td>6.58422</td>\n",
              "      <td>[Documentary]</td>\n",
              "      <td>6.682548</td>\n",
              "    </tr>\n",
              "    <tr>\n",
              "      <th>12121</th>\n",
              "      <td>Persepolis</td>\n",
              "      <td>2007</td>\n",
              "      <td>461</td>\n",
              "      <td>7</td>\n",
              "      <td>9.5375</td>\n",
              "      <td>[Animation, Drama]</td>\n",
              "      <td>6.651916</td>\n",
              "    </tr>\n",
              "  </tbody>\n",
              "</table>\n",
              "</div>"
            ],
            "text/plain": [
              "                        title  ...        wr\n",
              "5878              City of God  ...  7.843239\n",
              "31783                 Mustang  ...  7.368773\n",
              "33356            Wonder Woman  ...  6.961354\n",
              "4178                    Shrek  ...  6.953773\n",
              "36223           Me Before You  ...  6.928707\n",
              "6562      Lost in Translation  ...  6.903310\n",
              "32117              The Intern  ...  6.902502\n",
              "17454                 One Day  ...  6.822056\n",
              "39773   The Edge of Seventeen  ...  6.812999\n",
              "10386  Green Street Hooligans  ...  6.739280\n",
              "40885                    13th  ...  6.729720\n",
              "2988               Awakenings  ...  6.706931\n",
              "4884                 I Am Sam  ...  6.695226\n",
              "25086             Citizenfour  ...  6.682548\n",
              "12121              Persepolis  ...  6.651916\n",
              "\n",
              "[15 rows x 7 columns]"
            ]
          },
          "metadata": {},
          "execution_count": 75
        }
      ]
    },
    {
      "cell_type": "code",
      "metadata": {
        "collapsed": true,
        "id": "0f5xWMJhC2Hm"
      },
      "source": [
        "s = md.apply(lambda x: pd.Series(x['genres']),axis=1).stack().reset_index(level=1, drop=True)\n",
        "s.name = 'genre'\n",
        "gen_md = md.drop('genres', axis=1).join(s)"
      ],
      "execution_count": 76,
      "outputs": []
    },
    {
      "cell_type": "code",
      "metadata": {
        "collapsed": true,
        "id": "vhWkIGIcC2Hm"
      },
      "source": [
        "def build_chart(genre, percentile=0.85):\n",
        "    df = gen_md[gen_md['genre'] == genre]\n",
        "    vote_counts = df[df['vote_count'].notnull()]['vote_count'].astype('int')\n",
        "    vote_averages = df[df['vote_average'].notnull()]['vote_average'].astype('int')\n",
        "    C = vote_averages.mean()\n",
        "    m = vote_counts.quantile(percentile)\n",
        "    \n",
        "    qualified = df[(df['vote_count'] >= m) & (df['vote_count'].notnull()) & (df['vote_average'].notnull())][['title', 'year', 'vote_count', 'vote_average', 'popularity']]\n",
        "    qualified['vote_count'] = qualified['vote_count'].astype('int')\n",
        "    qualified['vote_average'] = qualified['vote_average'].astype('int')\n",
        "    \n",
        "    qualified['wr'] = qualified.apply(lambda x: (x['vote_count']/(x['vote_count']+m) * x['vote_average']) + (m/(m+x['vote_count']) * C), axis=1)\n",
        "    qualified = qualified.sort_values('wr', ascending=False).head(250)\n",
        "    \n",
        "    return qualified"
      ],
      "execution_count": 77,
      "outputs": []
    },
    {
      "cell_type": "markdown",
      "metadata": {
        "id": "QTuPWJkWC2Hn"
      },
      "source": [
        "Let us see our method in action by displaying the Top 15 Romance Movies (Romance almost didn't feature at all in our Generic Top Chart despite  being one of the most popular movie genres).\n",
        "\n",
        "### Top Romance Movies"
      ]
    },
    {
      "cell_type": "code",
      "metadata": {
        "colab": {
          "base_uri": "https://localhost:8080/",
          "height": 511
        },
        "id": "t5echG7yC2Hn",
        "outputId": "75d313e0-c58a-414c-9113-d3974ccb9b42"
      },
      "source": [
        "build_chart('Romance').head(15)"
      ],
      "execution_count": 78,
      "outputs": [
        {
          "output_type": "execute_result",
          "data": {
            "text/html": [
              "<div>\n",
              "<style scoped>\n",
              "    .dataframe tbody tr th:only-of-type {\n",
              "        vertical-align: middle;\n",
              "    }\n",
              "\n",
              "    .dataframe tbody tr th {\n",
              "        vertical-align: top;\n",
              "    }\n",
              "\n",
              "    .dataframe thead th {\n",
              "        text-align: right;\n",
              "    }\n",
              "</style>\n",
              "<table border=\"1\" class=\"dataframe\">\n",
              "  <thead>\n",
              "    <tr style=\"text-align: right;\">\n",
              "      <th></th>\n",
              "      <th>title</th>\n",
              "      <th>year</th>\n",
              "      <th>vote_count</th>\n",
              "      <th>vote_average</th>\n",
              "      <th>popularity</th>\n",
              "      <th>wr</th>\n",
              "    </tr>\n",
              "  </thead>\n",
              "  <tbody>\n",
              "    <tr>\n",
              "      <th>36223</th>\n",
              "      <td>Me Before You</td>\n",
              "      <td>2016</td>\n",
              "      <td>2674</td>\n",
              "      <td>7</td>\n",
              "      <td>34.34759</td>\n",
              "      <td>6.963042</td>\n",
              "    </tr>\n",
              "    <tr>\n",
              "      <th>17454</th>\n",
              "      <td>One Day</td>\n",
              "      <td>2011</td>\n",
              "      <td>1006</td>\n",
              "      <td>7</td>\n",
              "      <td>11.239</td>\n",
              "      <td>6.905048</td>\n",
              "    </tr>\n",
              "    <tr>\n",
              "      <th>3844</th>\n",
              "      <td>Pay It Forward</td>\n",
              "      <td>2000</td>\n",
              "      <td>447</td>\n",
              "      <td>7</td>\n",
              "      <td>10.4797</td>\n",
              "      <td>6.799735</td>\n",
              "    </tr>\n",
              "    <tr>\n",
              "      <th>11942</th>\n",
              "      <td>Across the Universe</td>\n",
              "      <td>2007</td>\n",
              "      <td>419</td>\n",
              "      <td>7</td>\n",
              "      <td>9.16158</td>\n",
              "      <td>6.787955</td>\n",
              "    </tr>\n",
              "    <tr>\n",
              "      <th>33869</th>\n",
              "      <td>Miss You Already</td>\n",
              "      <td>2015</td>\n",
              "      <td>232</td>\n",
              "      <td>7</td>\n",
              "      <td>7.634145</td>\n",
              "      <td>6.650749</td>\n",
              "    </tr>\n",
              "    <tr>\n",
              "      <th>257</th>\n",
              "      <td>Little Women</td>\n",
              "      <td>1994</td>\n",
              "      <td>222</td>\n",
              "      <td>7</td>\n",
              "      <td>9.77499</td>\n",
              "      <td>6.638231</td>\n",
              "    </tr>\n",
              "    <tr>\n",
              "      <th>36038</th>\n",
              "      <td>My King</td>\n",
              "      <td>2015</td>\n",
              "      <td>207</td>\n",
              "      <td>7</td>\n",
              "      <td>5.88082</td>\n",
              "      <td>6.617676</td>\n",
              "    </tr>\n",
              "    <tr>\n",
              "      <th>13798</th>\n",
              "      <td>The Proposal</td>\n",
              "      <td>2009</td>\n",
              "      <td>1858</td>\n",
              "      <td>6</td>\n",
              "      <td>8.05834</td>\n",
              "      <td>5.977058</td>\n",
              "    </tr>\n",
              "    <tr>\n",
              "      <th>11411</th>\n",
              "      <td>The Holiday</td>\n",
              "      <td>2006</td>\n",
              "      <td>1259</td>\n",
              "      <td>6</td>\n",
              "      <td>14.0434</td>\n",
              "      <td>5.966616</td>\n",
              "    </tr>\n",
              "    <tr>\n",
              "      <th>6080</th>\n",
              "      <td>Bend It Like Beckham</td>\n",
              "      <td>2002</td>\n",
              "      <td>593</td>\n",
              "      <td>6</td>\n",
              "      <td>6.26268</td>\n",
              "      <td>5.932410</td>\n",
              "    </tr>\n",
              "    <tr>\n",
              "      <th>14247</th>\n",
              "      <td>An Education</td>\n",
              "      <td>2009</td>\n",
              "      <td>423</td>\n",
              "      <td>6</td>\n",
              "      <td>8.5932</td>\n",
              "      <td>5.908472</td>\n",
              "    </tr>\n",
              "    <tr>\n",
              "      <th>21697</th>\n",
              "      <td>Enough Said</td>\n",
              "      <td>2013</td>\n",
              "      <td>351</td>\n",
              "      <td>6</td>\n",
              "      <td>6.78291</td>\n",
              "      <td>5.892320</td>\n",
              "    </tr>\n",
              "    <tr>\n",
              "      <th>2679</th>\n",
              "      <td>National Lampoon’s European Vacation</td>\n",
              "      <td>1985</td>\n",
              "      <td>232</td>\n",
              "      <td>6</td>\n",
              "      <td>11.4575</td>\n",
              "      <td>5.847981</td>\n",
              "    </tr>\n",
              "    <tr>\n",
              "      <th>13025</th>\n",
              "      <td>Angus, Thongs and Perfect Snogging</td>\n",
              "      <td>2008</td>\n",
              "      <td>231</td>\n",
              "      <td>6</td>\n",
              "      <td>8.89616</td>\n",
              "      <td>5.847453</td>\n",
              "    </tr>\n",
              "    <tr>\n",
              "      <th>11572</th>\n",
              "      <td>Paris, je t'aime</td>\n",
              "      <td>2006</td>\n",
              "      <td>213</td>\n",
              "      <td>6</td>\n",
              "      <td>6.98049</td>\n",
              "      <td>5.837283</td>\n",
              "    </tr>\n",
              "  </tbody>\n",
              "</table>\n",
              "</div>"
            ],
            "text/plain": [
              "                                      title  year  ...  popularity        wr\n",
              "36223                         Me Before You  2016  ...    34.34759  6.963042\n",
              "17454                               One Day  2011  ...      11.239  6.905048\n",
              "3844                         Pay It Forward  2000  ...     10.4797  6.799735\n",
              "11942                   Across the Universe  2007  ...     9.16158  6.787955\n",
              "33869                      Miss You Already  2015  ...    7.634145  6.650749\n",
              "257                            Little Women  1994  ...     9.77499  6.638231\n",
              "36038                               My King  2015  ...     5.88082  6.617676\n",
              "13798                          The Proposal  2009  ...     8.05834  5.977058\n",
              "11411                           The Holiday  2006  ...     14.0434  5.966616\n",
              "6080                   Bend It Like Beckham  2002  ...     6.26268  5.932410\n",
              "14247                          An Education  2009  ...      8.5932  5.908472\n",
              "21697                           Enough Said  2013  ...     6.78291  5.892320\n",
              "2679   National Lampoon’s European Vacation  1985  ...     11.4575  5.847981\n",
              "13025    Angus, Thongs and Perfect Snogging  2008  ...     8.89616  5.847453\n",
              "11572                      Paris, je t'aime  2006  ...     6.98049  5.837283\n",
              "\n",
              "[15 rows x 6 columns]"
            ]
          },
          "metadata": {},
          "execution_count": 78
        }
      ]
    },
    {
      "cell_type": "markdown",
      "metadata": {
        "id": "OmwGaN1DC2Hn"
      },
      "source": [
        "## Content Based Recommender\n",
        "\n"
      ]
    },
    {
      "cell_type": "code",
      "metadata": {
        "collapsed": true,
        "id": "fscpVyWRC2Ho"
      },
      "source": [
        "links_small = f.copy()\n",
        "#links_small = links_small[links_small['imdb_id'].notnull()]['imdb_id'].astype('int')"
      ],
      "execution_count": 79,
      "outputs": []
    },
    {
      "cell_type": "code",
      "metadata": {
        "collapsed": true,
        "id": "4zCPQcCZC2Ho"
      },
      "source": [
        "#md = md.drop([19730, 29503, 35587])"
      ],
      "execution_count": 34,
      "outputs": []
    },
    {
      "cell_type": "code",
      "metadata": {
        "collapsed": true,
        "id": "Rlr9T_IRC2Ho"
      },
      "source": [
        "#Check EDA Notebook for how and why I got these indices.\n",
        "#md['id'] = md['id'].astype('int')"
      ],
      "execution_count": 33,
      "outputs": []
    },
    {
      "cell_type": "code",
      "metadata": {
        "colab": {
          "base_uri": "https://localhost:8080/"
        },
        "id": "eTkNvRouC2Ho",
        "outputId": "154380f6-1e51-42d9-a6da-aa03db5e4d8d"
      },
      "source": [
        "smd = md.copy()\n",
        "smd.shape"
      ],
      "execution_count": 81,
      "outputs": [
        {
          "output_type": "execute_result",
          "data": {
            "text/plain": [
              "(1886, 27)"
            ]
          },
          "metadata": {},
          "execution_count": 81
        }
      ]
    },
    {
      "cell_type": "markdown",
      "metadata": {
        "id": "O-1XIa8HC2Hp"
      },
      "source": [
        "### Movie Description Based Recommender\n",
        "\n",
        "Let us first try to build a recommender using movie descriptions and taglines. We do not have a quantitative metric to judge our machine's performance so this will have to be done qualitatively."
      ]
    },
    {
      "cell_type": "code",
      "metadata": {
        "collapsed": true,
        "id": "vDCRbB5_C2Hp"
      },
      "source": [
        "smd['tagline'] = smd['tagline'].fillna('')\n",
        "smd['description'] = smd['overview'] + smd['tagline']\n",
        "smd['description'] = smd['description'].fillna('')"
      ],
      "execution_count": 82,
      "outputs": []
    },
    {
      "cell_type": "code",
      "metadata": {
        "collapsed": true,
        "id": "F9ElVKoxC2Hp"
      },
      "source": [
        "tf = TfidfVectorizer(analyzer='word',ngram_range=(1, 2),min_df=0, stop_words='english')\n",
        "tfidf_matrix = tf.fit_transform(smd['description'])"
      ],
      "execution_count": 83,
      "outputs": []
    },
    {
      "cell_type": "code",
      "metadata": {
        "colab": {
          "base_uri": "https://localhost:8080/"
        },
        "id": "FIB5gDj7C2Hp",
        "outputId": "3c586977-ccb2-433e-fa0a-dcb65801f603"
      },
      "source": [
        "tfidf_matrix.shape"
      ],
      "execution_count": 84,
      "outputs": [
        {
          "output_type": "execute_result",
          "data": {
            "text/plain": [
              "(1886, 68426)"
            ]
          },
          "metadata": {},
          "execution_count": 84
        }
      ]
    },
    {
      "cell_type": "markdown",
      "metadata": {
        "id": "FQQqaNiyC2Hp"
      },
      "source": [
        "#### Cosine Similarity\n",
        "\n",
        "I will be using the Cosine Similarity to calculate a numeric quantity that denotes the similarity between two movies. Mathematically, it is defined as follows:\n",
        "\n",
        "$cosine(x,y) = \\frac{x. y^\\intercal}{||x||.||y||} $\n",
        "\n",
        "Since we have used the TF-IDF Vectorizer, calculating the Dot Product will directly give us the Cosine Similarity Score. Therefore, we will use sklearn's **linear_kernel** instead of cosine_similarities since it is much faster."
      ]
    },
    {
      "cell_type": "code",
      "metadata": {
        "collapsed": true,
        "id": "CxLoOQTHC2Hq"
      },
      "source": [
        "cosine_sim = linear_kernel(tfidf_matrix, tfidf_matrix)"
      ],
      "execution_count": 85,
      "outputs": []
    },
    {
      "cell_type": "code",
      "metadata": {
        "colab": {
          "base_uri": "https://localhost:8080/"
        },
        "id": "HY0nnPKuC2Hq",
        "outputId": "9229c0ff-230c-4d72-9bbc-0df8684da053"
      },
      "source": [
        "cosine_sim[0]"
      ],
      "execution_count": 86,
      "outputs": [
        {
          "output_type": "execute_result",
          "data": {
            "text/plain": [
              "array([1.        , 0.00295543, 0.        , ..., 0.        , 0.00516445,\n",
              "       0.00677522])"
            ]
          },
          "metadata": {},
          "execution_count": 86
        }
      ]
    },
    {
      "cell_type": "markdown",
      "metadata": {
        "id": "tSXZKOKZC2Hq"
      },
      "source": [
        "We now have a pairwise cosine similarity matrix for all the movies in our dataset. The next step is to write a function that returns the 30 most similar movies based on the cosine similarity score."
      ]
    },
    {
      "cell_type": "code",
      "metadata": {
        "collapsed": true,
        "id": "H2j-A9zhC2Hq"
      },
      "source": [
        "smd = smd.reset_index()\n",
        "titles = smd['title']\n",
        "indices = pd.Series(smd.index, index=smd['title'])"
      ],
      "execution_count": 87,
      "outputs": []
    },
    {
      "cell_type": "code",
      "metadata": {
        "collapsed": true,
        "id": "Rbd0kiZRC2Hq"
      },
      "source": [
        "def get_recommendations(title):\n",
        "    idx = indices[title]\n",
        "    sim_scores = list(enumerate(cosine_sim[idx]))\n",
        "    sim_scores = sorted(sim_scores, key=lambda x: x[1], reverse=True)\n",
        "    sim_scores = sim_scores[1:31]\n",
        "    movie_indices = [i[0] for i in sim_scores]\n",
        "    return titles.iloc[movie_indices]"
      ],
      "execution_count": 88,
      "outputs": []
    },
    {
      "cell_type": "markdown",
      "metadata": {
        "id": "o2TZWBO7C2Hq"
      },
      "source": [
        "We're all set. Let us now try and get the top recommendations for a few movies and see how good the recommendations are."
      ]
    },
    {
      "cell_type": "code",
      "metadata": {
        "colab": {
          "base_uri": "https://localhost:8080/"
        },
        "id": "IdiptyNnC2Hq",
        "outputId": "f9f78ca0-73f0-4bae-cde6-f1a2b525626b"
      },
      "source": [
        "get_recommendations('The Holiday').head(10)"
      ],
      "execution_count": 89,
      "outputs": [
        {
          "output_type": "execute_result",
          "data": {
            "text/plain": [
              "1705          A Holiday Heist\n",
              "959                      Stay\n",
              "1309           The Ocean Waif\n",
              "698     My Sucky Teen Romance\n",
              "1010                      Eat\n",
              "569               The Snowman\n",
              "273       Living 'til the End\n",
              "946       Crazy for Christmas\n",
              "1383         Pete's Christmas\n",
              "89                 Love & Sex\n",
              "Name: title, dtype: object"
            ]
          },
          "metadata": {},
          "execution_count": 89
        }
      ]
    },
    {
      "cell_type": "code",
      "metadata": {
        "colab": {
          "base_uri": "https://localhost:8080/"
        },
        "id": "dV6R0cfyC2Hr",
        "outputId": "d19d96ce-9e3b-4416-a3f2-5b097814c512"
      },
      "source": [
        "get_recommendations('Lost in Translation').head(10)"
      ],
      "execution_count": 90,
      "outputs": [
        {
          "output_type": "execute_result",
          "data": {
            "text/plain": [
              "28                                     Private Parts\n",
              "151                                         Besotted\n",
              "917                                Stockholm Stories\n",
              "805     Concepción Arenal, la visitadora de cárceles\n",
              "633                              All About Actresses\n",
              "1175                                   Freaky Friday\n",
              "356                                 Cadillac Records\n",
              "111                                The Man Who Cried\n",
              "656                                Middle of Nowhere\n",
              "541                               An Unlikely Weapon\n",
              "Name: title, dtype: object"
            ]
          },
          "metadata": {},
          "execution_count": 90
        }
      ]
    },
    {
      "cell_type": "code",
      "metadata": {
        "colab": {
          "base_uri": "https://localhost:8080/"
        },
        "id": "Uz1DmFSSI6_L",
        "outputId": "0fd37d54-fda7-4179-c4c6-34e4f87f5575"
      },
      "source": [
        "print(md.iloc[28]['genres'])\n",
        "print(md.iloc[1175]['genres'])\n",
        "print(md.iloc[917]['genres'])\n",
        "print(md.iloc[656]['genres'])"
      ],
      "execution_count": 91,
      "outputs": [
        {
          "output_type": "stream",
          "name": "stdout",
          "text": [
            "['Comedy', 'Drama']\n",
            "['TV Movie', 'Comedy', 'Family', 'Fantasy']\n",
            "['Drama']\n",
            "['Drama']\n"
          ]
        }
      ]
    },
    {
      "cell_type": "code",
      "metadata": {
        "collapsed": true,
        "id": "ZADIyX3iC2Hx"
      },
      "source": [
        ""
      ],
      "execution_count": null,
      "outputs": []
    },
    {
      "cell_type": "code",
      "metadata": {
        "collapsed": true,
        "id": "Me6Np0zlC2Hx"
      },
      "source": [
        ""
      ],
      "execution_count": null,
      "outputs": []
    }
  ]
}